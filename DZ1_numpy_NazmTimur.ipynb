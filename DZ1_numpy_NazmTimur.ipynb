{
 "cells": [
  {
   "cell_type": "markdown",
   "metadata": {},
   "source": [
    "# Numpy"
   ]
  },
  {
   "cell_type": "markdown",
   "metadata": {},
   "source": [
    "#### 1.Создать вектор (одномерный массив) размера 100, заполненный нулями"
   ]
  },
  {
   "cell_type": "code",
   "execution_count": 1,
   "metadata": {},
   "outputs": [],
   "source": [
    "import numpy as np"
   ]
  },
  {
   "cell_type": "code",
   "execution_count": 2,
   "metadata": {},
   "outputs": [
    {
     "name": "stdout",
     "output_type": "stream",
     "text": [
      "[0. 0. 0. 0. 0. 0. 0. 0. 0. 0. 0. 0. 0. 0. 0. 0. 0. 0. 0. 0. 0. 0. 0. 0.\n",
      " 0. 0. 0. 0. 0. 0. 0. 0. 0. 0. 0. 0. 0. 0. 0. 0. 0. 0. 0. 0. 0. 0. 0. 0.\n",
      " 0. 0. 0. 0. 0. 0. 0. 0. 0. 0. 0. 0. 0. 0. 0. 0. 0. 0. 0. 0. 0. 0. 0. 0.\n",
      " 0. 0. 0. 0. 0. 0. 0. 0. 0. 0. 0. 0. 0. 0. 0. 0. 0. 0. 0. 0. 0. 0. 0. 0.\n",
      " 0. 0. 0. 0.]\n"
     ]
    }
   ],
   "source": [
    "d = np.zeros(100)\n",
    "print (d)"
   ]
  },
  {
   "cell_type": "markdown",
   "metadata": {},
   "source": [
    "#### 2.Создать вектор размера 100, заполненный единицами"
   ]
  },
  {
   "cell_type": "code",
   "execution_count": 3,
   "metadata": {},
   "outputs": [
    {
     "name": "stdout",
     "output_type": "stream",
     "text": [
      "[1. 1. 1. 1. 1. 1. 1. 1. 1. 1. 1. 1. 1. 1. 1. 1. 1. 1. 1. 1. 1. 1. 1. 1.\n",
      " 1. 1. 1. 1. 1. 1. 1. 1. 1. 1. 1. 1. 1. 1. 1. 1. 1. 1. 1. 1. 1. 1. 1. 1.\n",
      " 1. 1. 1. 1. 1. 1. 1. 1. 1. 1. 1. 1. 1. 1. 1. 1. 1. 1. 1. 1. 1. 1. 1. 1.\n",
      " 1. 1. 1. 1. 1. 1. 1. 1. 1. 1. 1. 1. 1. 1. 1. 1. 1. 1. 1. 1. 1. 1. 1. 1.\n",
      " 1. 1. 1. 1.]\n"
     ]
    }
   ],
   "source": [
    "d = np.ones(100)\n",
    "print (d)"
   ]
  },
  {
   "cell_type": "markdown",
   "metadata": {},
   "source": [
    "#### 3.Создать вектор размера 100, заполненный числом 3"
   ]
  },
  {
   "cell_type": "code",
   "execution_count": 4,
   "metadata": {},
   "outputs": [
    {
     "name": "stdout",
     "output_type": "stream",
     "text": [
      "[3 3 3 3 3 3 3 3 3 3 3 3 3 3 3 3 3 3 3 3 3 3 3 3 3 3 3 3 3 3 3 3 3 3 3 3 3\n",
      " 3 3 3 3 3 3 3 3 3 3 3 3 3 3 3 3 3 3 3 3 3 3 3 3 3 3 3 3 3 3 3 3 3 3 3 3 3\n",
      " 3 3 3 3 3 3 3 3 3 3 3 3 3 3 3 3 3 3 3 3 3 3 3 3 3 3]\n"
     ]
    }
   ],
   "source": [
    "d = np.full(100, 3)\n",
    "print (d)"
   ]
  },
  {
   "cell_type": "markdown",
   "metadata": {},
   "source": [
    "#### 4. Поменять 2 строки в матрице"
   ]
  },
  {
   "cell_type": "code",
   "execution_count": 6,
   "metadata": {},
   "outputs": [
    {
     "name": "stdout",
     "output_type": "stream",
     "text": [
      "[[0 1 2]\n",
      " [3 4 5]\n",
      " [6 7 8]]\n",
      "[[6 7 8]\n",
      " [3 4 5]\n",
      " [0 1 2]]\n"
     ]
    }
   ],
   "source": [
    "d = np.arange(9).reshape(3,3)\n",
    "print(d)\n",
    "d[[0,2]] = d[[2,0]]\n",
    "print(d)"
   ]
  },
  {
   "cell_type": "markdown",
   "metadata": {},
   "source": [
    "#### 5. Создать вектор со значениями от 10 до 100"
   ]
  },
  {
   "cell_type": "code",
   "execution_count": 7,
   "metadata": {},
   "outputs": [
    {
     "name": "stdout",
     "output_type": "stream",
     "text": [
      "[ 10  11  12  13  14  15  16  17  18  19  20  21  22  23  24  25  26  27\n",
      "  28  29  30  31  32  33  34  35  36  37  38  39  40  41  42  43  44  45\n",
      "  46  47  48  49  50  51  52  53  54  55  56  57  58  59  60  61  62  63\n",
      "  64  65  66  67  68  69  70  71  72  73  74  75  76  77  78  79  80  81\n",
      "  82  83  84  85  86  87  88  89  90  91  92  93  94  95  96  97  98  99\n",
      " 100]\n"
     ]
    }
   ],
   "source": [
    "d = np.arange(start=10, stop=101, step=1)\n",
    "print(d)"
   ]
  },
  {
   "cell_type": "markdown",
   "metadata": {},
   "source": [
    "#### 6. Создать матрицу (двумерный массив) 4x4 со значениями от 0 до 16"
   ]
  },
  {
   "cell_type": "code",
   "execution_count": 14,
   "metadata": {},
   "outputs": [
    {
     "name": "stdout",
     "output_type": "stream",
     "text": [
      "[[ 0  1  2  3]\n",
      " [ 4  5  6  7]\n",
      " [ 8  9 10 11]\n",
      " [12 13 14 15]]\n"
     ]
    }
   ],
   "source": [
    "d = np.arange(16).reshape(4,4)\n",
    "print(d)"
   ]
  },
  {
   "cell_type": "markdown",
   "metadata": {},
   "source": [
    "#### 7. Создать 3x3 единичную матрицу"
   ]
  },
  {
   "cell_type": "code",
   "execution_count": 15,
   "metadata": {},
   "outputs": [
    {
     "name": "stdout",
     "output_type": "stream",
     "text": [
      "[[1. 0. 0.]\n",
      " [0. 1. 0.]\n",
      " [0. 0. 1.]]\n"
     ]
    }
   ],
   "source": [
    "d = np.eye(3)\n",
    "print(d)"
   ]
  },
  {
   "cell_type": "markdown",
   "metadata": {},
   "source": [
    "#### 8. Создать массив 3x3x3 со случайными значениями"
   ]
  },
  {
   "cell_type": "code",
   "execution_count": 16,
   "metadata": {},
   "outputs": [
    {
     "name": "stdout",
     "output_type": "stream",
     "text": [
      "[[[0.74814799 0.32101704 0.03995557]\n",
      "  [0.82269102 0.24734711 0.51648334]\n",
      "  [0.86402106 0.56084398 0.555829  ]]\n",
      "\n",
      " [[0.67552977 0.51876426 0.12935074]\n",
      "  [0.46756164 0.16332866 0.56818324]\n",
      "  [0.02493391 0.98570816 0.66480345]]\n",
      "\n",
      " [[0.87322694 0.67336193 0.48951652]\n",
      "  [0.91450053 0.11665966 0.04684414]\n",
      "  [0.12520138 0.23783083 0.84180643]]]\n"
     ]
    }
   ],
   "source": [
    "d = np.random.random((3,3,3))\n",
    "print(d)"
   ]
  },
  {
   "cell_type": "markdown",
   "metadata": {},
   "source": [
    "#### 9. Создать массив 10x10 со случайными значениями, найти минимум и максимум"
   ]
  },
  {
   "cell_type": "code",
   "execution_count": 17,
   "metadata": {},
   "outputs": [
    {
     "name": "stdout",
     "output_type": "stream",
     "text": [
      "[[0.42125637 0.90166524 0.14237502 0.90832119 0.99891189 0.78446968\n",
      "  0.47567813 0.98499084 0.57215267 0.64558935]\n",
      " [0.86318878 0.50458114 0.47898703 0.91163167 0.08257609 0.99009632\n",
      "  0.91055674 0.83090044 0.48355971 0.74896204]\n",
      " [0.48019057 0.5891417  0.46367104 0.89433906 0.28996713 0.06837782\n",
      "  0.19741159 0.30691565 0.56936272 0.73352773]\n",
      " [0.18652426 0.92665705 0.53966071 0.25593802 0.29464276 0.09261336\n",
      "  0.38850284 0.25506864 0.38450666 0.48562835]\n",
      " [0.79767651 0.89371765 0.54991747 0.51588076 0.55217392 0.31421488\n",
      "  0.4336611  0.83287692 0.21520486 0.90074466]\n",
      " [0.7831664  0.45349427 0.24583963 0.76559562 0.75887473 0.80135221\n",
      "  0.85183258 0.23633629 0.75272195 0.37531728]\n",
      " [0.96887432 0.374138   0.51087107 0.53377533 0.19028703 0.36815343\n",
      "  0.5022904  0.49300543 0.65733698 0.01140566]\n",
      " [0.62617256 0.78056005 0.68111168 0.04041904 0.55349439 0.17539724\n",
      "  0.83814816 0.1935955  0.95165436 0.90900332]\n",
      " [0.00223511 0.66763909 0.08269475 0.9101854  0.00247729 0.31362002\n",
      "  0.35904316 0.31946414 0.098667   0.58092376]\n",
      " [0.35857118 0.32588166 0.96047386 0.84315341 0.65531858 0.79719662\n",
      "  0.98168437 0.19973133 0.85308432 0.5891235 ]]\n",
      "0.0022351145240772086 0.998911894863104\n"
     ]
    }
   ],
   "source": [
    "d = np.random.random((10,10))\n",
    "dmin, dmax = d.min(), d.max()\n",
    "print(d)\n",
    "print(dmin, dmax)"
   ]
  },
  {
   "cell_type": "markdown",
   "metadata": {},
   "source": [
    "#### 10. Создать случайный вектор размера 30 и найти среднее значение всех элементов"
   ]
  },
  {
   "cell_type": "code",
   "execution_count": 18,
   "metadata": {},
   "outputs": [
    {
     "name": "stdout",
     "output_type": "stream",
     "text": [
      "[0.57733164 0.82932794 0.26865045 0.84598653 0.77195121 0.4674167\n",
      " 0.82828691 0.29746234 0.06595948 0.71642961 0.67087342 0.77350565\n",
      " 0.46428047 0.67112999 0.84255477 0.89817339 0.90683671 0.15646379\n",
      " 0.81458546 0.66026998 0.55542378 0.17166798 0.39116798 0.82909114\n",
      " 0.01633807 0.48125865 0.3948287  0.04230136 0.7653393  0.3629373 ]\n",
      "0.5512610233778891\n"
     ]
    }
   ],
   "source": [
    "d = np.random.random(30)\n",
    "m = d.mean()\n",
    "print(d)\n",
    "print(m)"
   ]
  },
  {
   "cell_type": "markdown",
   "metadata": {},
   "source": [
    "#### 11. Дан массив размерности (6,7,8). Каков индекс (x,y,z) сотого элемента?"
   ]
  },
  {
   "cell_type": "code",
   "execution_count": 19,
   "metadata": {},
   "outputs": [
    {
     "name": "stdout",
     "output_type": "stream",
     "text": [
      "(1, 5, 4)\n"
     ]
    }
   ],
   "source": [
    "print(np.unravel_index(100, (6,7,8)))"
   ]
  },
  {
   "cell_type": "markdown",
   "metadata": {},
   "source": [
    "#### 12. Перемножить матрицы 5x3 и 3x2"
   ]
  },
  {
   "cell_type": "code",
   "execution_count": 20,
   "metadata": {},
   "outputs": [
    {
     "name": "stdout",
     "output_type": "stream",
     "text": [
      "[[3. 3.]\n",
      " [3. 3.]\n",
      " [3. 3.]\n",
      " [3. 3.]\n",
      " [3. 3.]]\n"
     ]
    }
   ],
   "source": [
    "d = np.dot(np.ones((5,3)), np.ones((3,2)))\n",
    "print(d)"
   ]
  },
  {
   "cell_type": "markdown",
   "metadata": {},
   "source": [
    "#### 13. Дан массив, поменять знак у элементов, значения которых между 3 и 8"
   ]
  },
  {
   "cell_type": "code",
   "execution_count": 21,
   "metadata": {},
   "outputs": [
    {
     "name": "stdout",
     "output_type": "stream",
     "text": [
      "[ 0  1  2  3  4  5  6  7  8  9 10 11 12 13 14]\n",
      "[ 0  1  2  3 -4 -5 -6 -7  8  9 10 11 12 13 14]\n"
     ]
    }
   ],
   "source": [
    "d = np.arange(15)\n",
    "print(d)\n",
    "d[(3 < d) & (d < 8)] *= -1\n",
    "print(d)"
   ]
  },
  {
   "cell_type": "markdown",
   "metadata": {},
   "source": [
    "#### 14. Создать 5x5 матрицу со значениями в строках от 0 до 4"
   ]
  },
  {
   "cell_type": "code",
   "execution_count": 22,
   "metadata": {},
   "outputs": [
    {
     "name": "stdout",
     "output_type": "stream",
     "text": [
      "[[0. 1. 2. 3. 4.]\n",
      " [0. 1. 2. 3. 4.]\n",
      " [0. 1. 2. 3. 4.]\n",
      " [0. 1. 2. 3. 4.]\n",
      " [0. 1. 2. 3. 4.]]\n"
     ]
    }
   ],
   "source": [
    "d = np.zeros((5,5))\n",
    "d += np.arange(5)\n",
    "print(d)"
   ]
  },
  {
   "cell_type": "markdown",
   "metadata": {},
   "source": [
    "#### 15. Отнять среднее из каждой строки в матрице"
   ]
  },
  {
   "cell_type": "code",
   "execution_count": 23,
   "metadata": {},
   "outputs": [
    {
     "name": "stdout",
     "output_type": "stream",
     "text": [
      "[[0.06899671 0.94242513 0.54347484]\n",
      " [0.23850587 0.7134659  0.40627413]]\n",
      "[[-0.44930219  0.42412624  0.02517595]\n",
      " [-0.21424276  0.26071726 -0.0464745 ]]\n"
     ]
    }
   ],
   "source": [
    "d = np.random.rand(2, 3)\n",
    "print(d)\n",
    "e = d - d.mean(axis=1, keepdims=True)\n",
    "print(e)"
   ]
  },
  {
   "cell_type": "code",
   "execution_count": null,
   "metadata": {},
   "outputs": [],
   "source": []
  }
 ],
 "metadata": {
  "kernelspec": {
   "display_name": "Python 3",
   "language": "python",
   "name": "python3"
  },
  "language_info": {
   "codemirror_mode": {
    "name": "ipython",
    "version": 3
   },
   "file_extension": ".py",
   "mimetype": "text/x-python",
   "name": "python",
   "nbconvert_exporter": "python",
   "pygments_lexer": "ipython3",
   "version": "3.7.4"
  }
 },
 "nbformat": 4,
 "nbformat_minor": 1
}
